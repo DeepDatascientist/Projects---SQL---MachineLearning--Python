{
 "cells": [
  {
   "cell_type": "markdown",
   "id": "ed085f00",
   "metadata": {},
   "source": [
    "# Classification Problem"
   ]
  },
  {
   "cell_type": "markdown",
   "id": "fb3e5b3a",
   "metadata": {},
   "source": [
    "# Steps that will be performing \n",
    "\n",
    "1- preprocessing + EDA+ Feature Selection\n",
    "2-Extract input and output columns\n",
    "3-Scale the value\n",
    "4-train test split\n",
    "5-Train the model\n",
    "6-Deploy the model"
   ]
  },
  {
   "cell_type": "markdown",
   "id": "9208c1ff",
   "metadata": {},
   "source": [
    "# Model i will build will be a Logistic Regression"
   ]
  },
  {
   "cell_type": "code",
   "execution_count": 3,
   "id": "25932bc2",
   "metadata": {},
   "outputs": [],
   "source": [
    "# importing  Module\n",
    "import pandas as pd\n",
    "import numpy as np \n",
    "import matplotlib.pyplot as plt\n",
    "import seaborn as sns\n",
    "import warnings\n",
    "%matplotlib inline"
   ]
  },
  {
   "cell_type": "code",
   "execution_count": 4,
   "id": "91b0d19e",
   "metadata": {},
   "outputs": [],
   "source": [
    "# Loading the dataset\n",
    "\n",
    "df = pd.read_csv('https://raw.githubusercontent.com/campusx-official/placement-project-logistic-regression/main/placement.csv')"
   ]
  },
  {
   "cell_type": "code",
   "execution_count": 5,
   "id": "44cc52b5",
   "metadata": {},
   "outputs": [
    {
     "data": {
      "text/html": [
       "<div>\n",
       "<style scoped>\n",
       "    .dataframe tbody tr th:only-of-type {\n",
       "        vertical-align: middle;\n",
       "    }\n",
       "\n",
       "    .dataframe tbody tr th {\n",
       "        vertical-align: top;\n",
       "    }\n",
       "\n",
       "    .dataframe thead th {\n",
       "        text-align: right;\n",
       "    }\n",
       "</style>\n",
       "<table border=\"1\" class=\"dataframe\">\n",
       "  <thead>\n",
       "    <tr style=\"text-align: right;\">\n",
       "      <th></th>\n",
       "      <th>Unnamed: 0</th>\n",
       "      <th>cgpa</th>\n",
       "      <th>iq</th>\n",
       "      <th>placement</th>\n",
       "    </tr>\n",
       "  </thead>\n",
       "  <tbody>\n",
       "    <tr>\n",
       "      <th>0</th>\n",
       "      <td>0</td>\n",
       "      <td>6.8</td>\n",
       "      <td>123.0</td>\n",
       "      <td>1</td>\n",
       "    </tr>\n",
       "    <tr>\n",
       "      <th>1</th>\n",
       "      <td>1</td>\n",
       "      <td>5.9</td>\n",
       "      <td>106.0</td>\n",
       "      <td>0</td>\n",
       "    </tr>\n",
       "    <tr>\n",
       "      <th>2</th>\n",
       "      <td>2</td>\n",
       "      <td>5.3</td>\n",
       "      <td>121.0</td>\n",
       "      <td>0</td>\n",
       "    </tr>\n",
       "    <tr>\n",
       "      <th>3</th>\n",
       "      <td>3</td>\n",
       "      <td>7.4</td>\n",
       "      <td>132.0</td>\n",
       "      <td>1</td>\n",
       "    </tr>\n",
       "    <tr>\n",
       "      <th>4</th>\n",
       "      <td>4</td>\n",
       "      <td>5.8</td>\n",
       "      <td>142.0</td>\n",
       "      <td>0</td>\n",
       "    </tr>\n",
       "  </tbody>\n",
       "</table>\n",
       "</div>"
      ],
      "text/plain": [
       "   Unnamed: 0  cgpa     iq  placement\n",
       "0           0   6.8  123.0          1\n",
       "1           1   5.9  106.0          0\n",
       "2           2   5.3  121.0          0\n",
       "3           3   7.4  132.0          1\n",
       "4           4   5.8  142.0          0"
      ]
     },
     "execution_count": 5,
     "metadata": {},
     "output_type": "execute_result"
    }
   ],
   "source": [
    "# Displaying the data\n",
    "\n",
    "df.head()"
   ]
  },
  {
   "cell_type": "code",
   "execution_count": 6,
   "id": "ddeb6676",
   "metadata": {},
   "outputs": [],
   "source": [
    "# applying Iloc func\n",
    "\n",
    "df = df.iloc[:,1:]\n",
    "\n",
    "# iloc has removed the Unnamed column"
   ]
  },
  {
   "cell_type": "code",
   "execution_count": 7,
   "id": "ff7bc330",
   "metadata": {},
   "outputs": [
    {
     "data": {
      "text/html": [
       "<div>\n",
       "<style scoped>\n",
       "    .dataframe tbody tr th:only-of-type {\n",
       "        vertical-align: middle;\n",
       "    }\n",
       "\n",
       "    .dataframe tbody tr th {\n",
       "        vertical-align: top;\n",
       "    }\n",
       "\n",
       "    .dataframe thead th {\n",
       "        text-align: right;\n",
       "    }\n",
       "</style>\n",
       "<table border=\"1\" class=\"dataframe\">\n",
       "  <thead>\n",
       "    <tr style=\"text-align: right;\">\n",
       "      <th></th>\n",
       "      <th>cgpa</th>\n",
       "      <th>iq</th>\n",
       "      <th>placement</th>\n",
       "    </tr>\n",
       "  </thead>\n",
       "  <tbody>\n",
       "    <tr>\n",
       "      <th>0</th>\n",
       "      <td>6.8</td>\n",
       "      <td>123.0</td>\n",
       "      <td>1</td>\n",
       "    </tr>\n",
       "    <tr>\n",
       "      <th>1</th>\n",
       "      <td>5.9</td>\n",
       "      <td>106.0</td>\n",
       "      <td>0</td>\n",
       "    </tr>\n",
       "    <tr>\n",
       "      <th>2</th>\n",
       "      <td>5.3</td>\n",
       "      <td>121.0</td>\n",
       "      <td>0</td>\n",
       "    </tr>\n",
       "    <tr>\n",
       "      <th>3</th>\n",
       "      <td>7.4</td>\n",
       "      <td>132.0</td>\n",
       "      <td>1</td>\n",
       "    </tr>\n",
       "    <tr>\n",
       "      <th>4</th>\n",
       "      <td>5.8</td>\n",
       "      <td>142.0</td>\n",
       "      <td>0</td>\n",
       "    </tr>\n",
       "  </tbody>\n",
       "</table>\n",
       "</div>"
      ],
      "text/plain": [
       "   cgpa     iq  placement\n",
       "0   6.8  123.0          1\n",
       "1   5.9  106.0          0\n",
       "2   5.3  121.0          0\n",
       "3   7.4  132.0          1\n",
       "4   5.8  142.0          0"
      ]
     },
     "execution_count": 7,
     "metadata": {},
     "output_type": "execute_result"
    }
   ],
   "source": [
    "df.head()"
   ]
  },
  {
   "cell_type": "code",
   "execution_count": 8,
   "id": "febe2f53",
   "metadata": {},
   "outputs": [
    {
     "name": "stdout",
     "output_type": "stream",
     "text": [
      "<class 'pandas.core.frame.DataFrame'>\n",
      "RangeIndex: 100 entries, 0 to 99\n",
      "Data columns (total 3 columns):\n",
      " #   Column     Non-Null Count  Dtype  \n",
      "---  ------     --------------  -----  \n",
      " 0   cgpa       100 non-null    float64\n",
      " 1   iq         100 non-null    float64\n",
      " 2   placement  100 non-null    int64  \n",
      "dtypes: float64(2), int64(1)\n",
      "memory usage: 2.5 KB\n"
     ]
    }
   ],
   "source": [
    "# Checking the data info\n",
    "\n",
    "df.info()"
   ]
  },
  {
   "cell_type": "markdown",
   "id": "5cb9e7c7",
   "metadata": {},
   "source": [
    "# # EDA"
   ]
  },
  {
   "cell_type": "code",
   "execution_count": 16,
   "id": "b4d76fe5",
   "metadata": {},
   "outputs": [
    {
     "data": {
      "image/png": "[encoded data removed]",
      "text/plain": [
       "<Figure size 432x288 with 1 Axes>"
      ]
     },
     "metadata": {
      "needs_background": "light"
     },
     "output_type": "display_data"
    }
   ],
   "source": [
    "plt.scatter(df['cgpa'],df['iq'])\n",
    "plt.show()\n",
    "\n",
    "# Iq is starting from 50\n",
    "\n",
    "# IQ is ranging all the top till 225 in which is very high please ignore since its toy data created by me"
   ]
  },
  {
   "cell_type": "code",
   "execution_count": 17,
   "id": "ac5603f2",
   "metadata": {},
   "outputs": [
    {
     "data": {
      "image/png": "[encoded data removed]",
      "text/plain": [
       "<Figure size 432x288 with 1 Axes>"
      ]
     },
     "metadata": {
      "needs_background": "light"
     },
     "output_type": "display_data"
    }
   ],
   "source": [
    "# If i want to color code this following scatter plot for better understanding i will use following func below\n",
    "\n",
    "plt.scatter(df['cgpa'],df['iq'],c=df['placement'])\n",
    "plt.show()\n",
    "\n",
    "# Students in blue color are not placed\n",
    "\n",
    "# students with yellow iq are placed now its more understandable and adding meaning "
   ]
  },
  {
   "cell_type": "markdown",
   "id": "23dbe67f",
   "metadata": {},
   "source": [
    "# Creating variable to store independent varialbe\n",
    "\n",
    "Independent variable is variable which are not corelated to each other"
   ]
  },
  {
   "cell_type": "code",
   "execution_count": 18,
   "id": "18128176",
   "metadata": {},
   "outputs": [],
   "source": [
    "# Creating x variable to store independent varialbe\n",
    "\n",
    "# I have used i loc where i want all rows and first 2 columns using iloc func\n",
    "\n",
    "# I have used i loc on y varialbe where i fetched all rows and last column that is represented using -1\n",
    "\n",
    "x= df.iloc[:,0:2]\n",
    "\n",
    "y= df.iloc[:,-1]"
   ]
  },
  {
   "cell_type": "code",
   "execution_count": 19,
   "id": "ea31e6fb",
   "metadata": {},
   "outputs": [
    {
     "data": {
      "text/html": [
       "<div>\n",
       "<style scoped>\n",
       "    .dataframe tbody tr th:only-of-type {\n",
       "        vertical-align: middle;\n",
       "    }\n",
       "\n",
       "    .dataframe tbody tr th {\n",
       "        vertical-align: top;\n",
       "    }\n",
       "\n",
       "    .dataframe thead th {\n",
       "        text-align: right;\n",
       "    }\n",
       "</style>\n",
       "<table border=\"1\" class=\"dataframe\">\n",
       "  <thead>\n",
       "    <tr style=\"text-align: right;\">\n",
       "      <th></th>\n",
       "      <th>cgpa</th>\n",
       "      <th>iq</th>\n",
       "    </tr>\n",
       "  </thead>\n",
       "  <tbody>\n",
       "    <tr>\n",
       "      <th>0</th>\n",
       "      <td>6.8</td>\n",
       "      <td>123.0</td>\n",
       "    </tr>\n",
       "    <tr>\n",
       "      <th>1</th>\n",
       "      <td>5.9</td>\n",
       "      <td>106.0</td>\n",
       "    </tr>\n",
       "    <tr>\n",
       "      <th>2</th>\n",
       "      <td>5.3</td>\n",
       "      <td>121.0</td>\n",
       "    </tr>\n",
       "    <tr>\n",
       "      <th>3</th>\n",
       "      <td>7.4</td>\n",
       "      <td>132.0</td>\n",
       "    </tr>\n",
       "    <tr>\n",
       "      <th>4</th>\n",
       "      <td>5.8</td>\n",
       "      <td>142.0</td>\n",
       "    </tr>\n",
       "    <tr>\n",
       "      <th>...</th>\n",
       "      <td>...</td>\n",
       "      <td>...</td>\n",
       "    </tr>\n",
       "    <tr>\n",
       "      <th>95</th>\n",
       "      <td>4.3</td>\n",
       "      <td>200.0</td>\n",
       "    </tr>\n",
       "    <tr>\n",
       "      <th>96</th>\n",
       "      <td>4.4</td>\n",
       "      <td>42.0</td>\n",
       "    </tr>\n",
       "    <tr>\n",
       "      <th>97</th>\n",
       "      <td>6.7</td>\n",
       "      <td>182.0</td>\n",
       "    </tr>\n",
       "    <tr>\n",
       "      <th>98</th>\n",
       "      <td>6.3</td>\n",
       "      <td>103.0</td>\n",
       "    </tr>\n",
       "    <tr>\n",
       "      <th>99</th>\n",
       "      <td>6.2</td>\n",
       "      <td>113.0</td>\n",
       "    </tr>\n",
       "  </tbody>\n",
       "</table>\n",
       "<p>100 rows × 2 columns</p>\n",
       "</div>"
      ],
      "text/plain": [
       "    cgpa     iq\n",
       "0    6.8  123.0\n",
       "1    5.9  106.0\n",
       "2    5.3  121.0\n",
       "3    7.4  132.0\n",
       "4    5.8  142.0\n",
       "..   ...    ...\n",
       "95   4.3  200.0\n",
       "96   4.4   42.0\n",
       "97   6.7  182.0\n",
       "98   6.3  103.0\n",
       "99   6.2  113.0\n",
       "\n",
       "[100 rows x 2 columns]"
      ]
     },
     "execution_count": 19,
     "metadata": {},
     "output_type": "execute_result"
    }
   ],
   "source": [
    "x"
   ]
  },
  {
   "cell_type": "code",
   "execution_count": 20,
   "id": "5bf419ac",
   "metadata": {},
   "outputs": [
    {
     "data": {
      "text/plain": [
       "0     1\n",
       "1     0\n",
       "2     0\n",
       "3     1\n",
       "4     0\n",
       "     ..\n",
       "95    0\n",
       "96    0\n",
       "97    1\n",
       "98    1\n",
       "99    1\n",
       "Name: placement, Length: 100, dtype: int64"
      ]
     },
     "execution_count": 20,
     "metadata": {},
     "output_type": "execute_result"
    }
   ],
   "source": [
    "y"
   ]
  },
  {
   "cell_type": "markdown",
   "id": "6a68f388",
   "metadata": {},
   "source": [
    "# Train Test Split"
   ]
  },
  {
   "cell_type": "code",
   "execution_count": 21,
   "id": "4332703a",
   "metadata": {},
   "outputs": [],
   "source": [
    "from sklearn.model_selection import train_test_split"
   ]
  },
  {
   "cell_type": "markdown",
   "id": "ab82962a",
   "metadata": {},
   "source": [
    "# In Train Test Split we have to give 3 values \n",
    "\n",
    "# X that is my independent varible \n",
    "\n",
    "# y that is my depent varible\n",
    "\n",
    "# Test size which will be 0.1"
   ]
  },
  {
   "cell_type": "code",
   "execution_count": 23,
   "id": "b3a65604",
   "metadata": {},
   "outputs": [],
   "source": [
    "x_train,x_test,y_train,y_test=train_test_split(x,y,test_size=0.1)"
   ]
  },
  {
   "cell_type": "code",
   "execution_count": 24,
   "id": "df81e326",
   "metadata": {},
   "outputs": [],
   "source": [
    "# Now i have stored it in proper variables "
   ]
  },
  {
   "cell_type": "code",
   "execution_count": 25,
   "id": "c88cfb89",
   "metadata": {},
   "outputs": [
    {
     "data": {
      "text/html": [
       "<div>\n",
       "<style scoped>\n",
       "    .dataframe tbody tr th:only-of-type {\n",
       "        vertical-align: middle;\n",
       "    }\n",
       "\n",
       "    .dataframe tbody tr th {\n",
       "        vertical-align: top;\n",
       "    }\n",
       "\n",
       "    .dataframe thead th {\n",
       "        text-align: right;\n",
       "    }\n",
       "</style>\n",
       "<table border=\"1\" class=\"dataframe\">\n",
       "  <thead>\n",
       "    <tr style=\"text-align: right;\">\n",
       "      <th></th>\n",
       "      <th>cgpa</th>\n",
       "      <th>iq</th>\n",
       "    </tr>\n",
       "  </thead>\n",
       "  <tbody>\n",
       "    <tr>\n",
       "      <th>21</th>\n",
       "      <td>7.1</td>\n",
       "      <td>151.0</td>\n",
       "    </tr>\n",
       "    <tr>\n",
       "      <th>68</th>\n",
       "      <td>4.0</td>\n",
       "      <td>75.0</td>\n",
       "    </tr>\n",
       "    <tr>\n",
       "      <th>13</th>\n",
       "      <td>6.4</td>\n",
       "      <td>116.0</td>\n",
       "    </tr>\n",
       "    <tr>\n",
       "      <th>34</th>\n",
       "      <td>4.8</td>\n",
       "      <td>163.0</td>\n",
       "    </tr>\n",
       "    <tr>\n",
       "      <th>85</th>\n",
       "      <td>5.8</td>\n",
       "      <td>166.0</td>\n",
       "    </tr>\n",
       "    <tr>\n",
       "      <th>...</th>\n",
       "      <td>...</td>\n",
       "      <td>...</td>\n",
       "    </tr>\n",
       "    <tr>\n",
       "      <th>87</th>\n",
       "      <td>5.7</td>\n",
       "      <td>132.0</td>\n",
       "    </tr>\n",
       "    <tr>\n",
       "      <th>0</th>\n",
       "      <td>6.8</td>\n",
       "      <td>123.0</td>\n",
       "    </tr>\n",
       "    <tr>\n",
       "      <th>91</th>\n",
       "      <td>7.5</td>\n",
       "      <td>158.0</td>\n",
       "    </tr>\n",
       "    <tr>\n",
       "      <th>14</th>\n",
       "      <td>6.1</td>\n",
       "      <td>103.0</td>\n",
       "    </tr>\n",
       "    <tr>\n",
       "      <th>94</th>\n",
       "      <td>4.7</td>\n",
       "      <td>52.0</td>\n",
       "    </tr>\n",
       "  </tbody>\n",
       "</table>\n",
       "<p>90 rows × 2 columns</p>\n",
       "</div>"
      ],
      "text/plain": [
       "    cgpa     iq\n",
       "21   7.1  151.0\n",
       "68   4.0   75.0\n",
       "13   6.4  116.0\n",
       "34   4.8  163.0\n",
       "85   5.8  166.0\n",
       "..   ...    ...\n",
       "87   5.7  132.0\n",
       "0    6.8  123.0\n",
       "91   7.5  158.0\n",
       "14   6.1  103.0\n",
       "94   4.7   52.0\n",
       "\n",
       "[90 rows x 2 columns]"
      ]
     },
     "execution_count": 25,
     "metadata": {},
     "output_type": "execute_result"
    }
   ],
   "source": [
    "x_train\n",
    "\n",
    "# This is my Xtrain"
   ]
  },
  {
   "cell_type": "code",
   "execution_count": 26,
   "id": "cfbede8b",
   "metadata": {},
   "outputs": [
    {
     "data": {
      "text/html": [
       "<div>\n",
       "<style scoped>\n",
       "    .dataframe tbody tr th:only-of-type {\n",
       "        vertical-align: middle;\n",
       "    }\n",
       "\n",
       "    .dataframe tbody tr th {\n",
       "        vertical-align: top;\n",
       "    }\n",
       "\n",
       "    .dataframe thead th {\n",
       "        text-align: right;\n",
       "    }\n",
       "</style>\n",
       "<table border=\"1\" class=\"dataframe\">\n",
       "  <thead>\n",
       "    <tr style=\"text-align: right;\">\n",
       "      <th></th>\n",
       "      <th>cgpa</th>\n",
       "      <th>iq</th>\n",
       "    </tr>\n",
       "  </thead>\n",
       "  <tbody>\n",
       "    <tr>\n",
       "      <th>75</th>\n",
       "      <td>4.8</td>\n",
       "      <td>169.0</td>\n",
       "    </tr>\n",
       "    <tr>\n",
       "      <th>1</th>\n",
       "      <td>5.9</td>\n",
       "      <td>106.0</td>\n",
       "    </tr>\n",
       "    <tr>\n",
       "      <th>72</th>\n",
       "      <td>7.3</td>\n",
       "      <td>116.0</td>\n",
       "    </tr>\n",
       "    <tr>\n",
       "      <th>15</th>\n",
       "      <td>5.1</td>\n",
       "      <td>176.0</td>\n",
       "    </tr>\n",
       "    <tr>\n",
       "      <th>52</th>\n",
       "      <td>7.0</td>\n",
       "      <td>175.0</td>\n",
       "    </tr>\n",
       "    <tr>\n",
       "      <th>81</th>\n",
       "      <td>5.4</td>\n",
       "      <td>107.0</td>\n",
       "    </tr>\n",
       "    <tr>\n",
       "      <th>40</th>\n",
       "      <td>4.9</td>\n",
       "      <td>134.0</td>\n",
       "    </tr>\n",
       "    <tr>\n",
       "      <th>76</th>\n",
       "      <td>4.9</td>\n",
       "      <td>155.0</td>\n",
       "    </tr>\n",
       "    <tr>\n",
       "      <th>58</th>\n",
       "      <td>8.0</td>\n",
       "      <td>79.0</td>\n",
       "    </tr>\n",
       "    <tr>\n",
       "      <th>11</th>\n",
       "      <td>6.9</td>\n",
       "      <td>138.0</td>\n",
       "    </tr>\n",
       "  </tbody>\n",
       "</table>\n",
       "</div>"
      ],
      "text/plain": [
       "    cgpa     iq\n",
       "75   4.8  169.0\n",
       "1    5.9  106.0\n",
       "72   7.3  116.0\n",
       "15   5.1  176.0\n",
       "52   7.0  175.0\n",
       "81   5.4  107.0\n",
       "40   4.9  134.0\n",
       "76   4.9  155.0\n",
       "58   8.0   79.0\n",
       "11   6.9  138.0"
      ]
     },
     "execution_count": 26,
     "metadata": {},
     "output_type": "execute_result"
    }
   ],
   "source": [
    "x_test"
   ]
  },
  {
   "cell_type": "code",
   "execution_count": 27,
   "id": "4a906768",
   "metadata": {},
   "outputs": [
    {
     "data": {
      "text/plain": [
       "21    1\n",
       "68    0\n",
       "13    1\n",
       "34    0\n",
       "85    1\n",
       "     ..\n",
       "87    1\n",
       "0     1\n",
       "91    1\n",
       "14    0\n",
       "94    0\n",
       "Name: placement, Length: 90, dtype: int64"
      ]
     },
     "execution_count": 27,
     "metadata": {},
     "output_type": "execute_result"
    }
   ],
   "source": [
    "y_train"
   ]
  },
  {
   "cell_type": "code",
   "execution_count": 28,
   "id": "d33e625e",
   "metadata": {},
   "outputs": [
    {
     "data": {
      "text/plain": [
       "75    0\n",
       "1     0\n",
       "72    1\n",
       "15    0\n",
       "52    1\n",
       "81    0\n",
       "40    0\n",
       "76    0\n",
       "58    1\n",
       "11    1\n",
       "Name: placement, dtype: int64"
      ]
     },
     "execution_count": 28,
     "metadata": {},
     "output_type": "execute_result"
    }
   ],
   "source": [
    "y_test"
   ]
  },
  {
   "cell_type": "markdown",
   "id": "56e20b1f",
   "metadata": {},
   "source": [
    "# Scaling the values"
   ]
  },
  {
   "cell_type": "code",
   "execution_count": 29,
   "id": "13d3018d",
   "metadata": {},
   "outputs": [],
   "source": [
    "from sklearn.preprocessing import StandardScaler"
   ]
  },
  {
   "cell_type": "code",
   "execution_count": 30,
   "id": "6d91a477",
   "metadata": {},
   "outputs": [],
   "source": [
    "scaler = StandardScaler()"
   ]
  },
  {
   "cell_type": "code",
   "execution_count": 31,
   "id": "04cf8972",
   "metadata": {},
   "outputs": [],
   "source": [
    "# Scaling values for  the X_train\n",
    "\n",
    "x_train = scaler.fit_transform(x_train)"
   ]
  },
  {
   "cell_type": "code",
   "execution_count": 32,
   "id": "d88bdd2e",
   "metadata": {},
   "outputs": [
    {
     "data": {
      "text/plain": [
       "array([[ 0.97574801,  0.71266458],\n",
       "       [-1.74386932, -1.17161285],\n",
       "       [ 0.36164087, -0.15509477],\n",
       "       [-1.04203259,  1.01018207],\n",
       "       [-0.16473668,  1.08456144],\n",
       "       [-0.51565504,  0.31597459],\n",
       "       [-0.69111422, -0.79971599],\n",
       "       [-0.77884382, -1.39475097],\n",
       "       [-0.86657341, -0.10550852],\n",
       "       [-0.954303  , -1.51871659],\n",
       "       [-0.77884382,  0.14242272],\n",
       "       [ 1.15120719, -0.89888849],\n",
       "       [-0.69111422,  2.52256263],\n",
       "       [ 0.88801842, -0.25426726],\n",
       "       [-1.48068055,  1.92752766],\n",
       "       [-1.04203259,  0.46473334],\n",
       "       [ 0.27391128,  0.14242272],\n",
       "       [ 2.02850311,  1.13414769],\n",
       "       [-0.954303  ,  1.82835516],\n",
       "       [-1.74386932, -0.55178475],\n",
       "       [-0.86657341, -1.46913034],\n",
       "       [ 0.62482964,  1.48125142],\n",
       "       [-1.39295096,  0.66307833],\n",
       "       [ 0.80028883,  0.41514709],\n",
       "       [ 0.27391128,  0.1176296 ],\n",
       "       [-1.12976218, -0.87409536],\n",
       "       [ 0.44937046, -0.79971599],\n",
       "       [ 1.15120719, -1.79144095],\n",
       "       [ 0.88801842, -1.44433722],\n",
       "       [-0.60338463, -0.20468101],\n",
       "       [-2.18251728,  2.74570075],\n",
       "       [-0.60338463, -0.03112914],\n",
       "       [-1.21749177,  0.58869896],\n",
       "       [-0.16473668,  0.48952646],\n",
       "       [-0.51565504, -0.20468101],\n",
       "       [ 0.01072251,  0.04325023],\n",
       "       [ 1.85304392,  1.08456144],\n",
       "       [-0.86657341, -0.77492287],\n",
       "       [ 0.0984521 ,  0.24159522],\n",
       "       [-1.04203259, -0.25426726],\n",
       "       [ 0.88801842,  0.41514709],\n",
       "       [ 2.20396229, -0.05592227],\n",
       "       [-0.25246627,  0.51431958],\n",
       "       [-0.954303  ,  0.71266458],\n",
       "       [-0.25246627,  0.43994021],\n",
       "       [ 1.32666637,  0.19200897],\n",
       "       [ 0.0984521 , -1.41954409],\n",
       "       [ 0.18618169, -0.22947414],\n",
       "       [-0.25246627,  1.15894081],\n",
       "       [ 0.71255924,  0.46473334],\n",
       "       [-2.35797646,  1.50604455],\n",
       "       [ 0.97574801, -1.8410272 ],\n",
       "       [ 0.01072251,  0.66307833],\n",
       "       [-1.83159891, -0.32864663],\n",
       "       [ 1.41439597, -0.82450911],\n",
       "       [-0.69111422, -0.30385351],\n",
       "       [ 0.0984521 , -1.02285411],\n",
       "       [ 1.15120719,  0.36556084],\n",
       "       [ 0.53710005,  0.39035396],\n",
       "       [ 1.58985515, -0.20468101],\n",
       "       [ 0.01072251, -1.91540657],\n",
       "       [ 0.53710005, -0.05592227],\n",
       "       [ 0.62482964,  0.78704395],\n",
       "       [ 0.01072251, -1.39475097],\n",
       "       [ 0.27391128, -0.47740538],\n",
       "       [ 0.44937046,  0.19200897],\n",
       "       [ 1.23893678,  0.24159522],\n",
       "       [-0.954303  , -0.05592227],\n",
       "       [-1.39295096, -1.98978595],\n",
       "       [-0.69111422,  0.24159522],\n",
       "       [ 0.71255924, -0.25426726],\n",
       "       [-1.12976218, -0.03112914],\n",
       "       [ 1.85304392,  0.66307833],\n",
       "       [ 0.88801842,  1.90273453],\n",
       "       [ 0.71255924, -0.79971599],\n",
       "       [ 0.0984521 ,  0.8366302 ],\n",
       "       [ 0.80028883, -0.65095725],\n",
       "       [ 0.44937046,  0.93580269],\n",
       "       [-0.69111422,  0.96059582],\n",
       "       [-0.51565504,  0.41514709],\n",
       "       [ 0.01072251, -0.5021985 ],\n",
       "       [ 0.44937046, -2.11375157],\n",
       "       [ 0.36164087,  0.46473334],\n",
       "       [ 1.41439597,  0.14242272],\n",
       "       [ 1.32666637, -1.51871659],\n",
       "       [-0.25246627,  0.24159522],\n",
       "       [ 0.71255924,  0.0184571 ],\n",
       "       [ 1.32666637,  0.88621645],\n",
       "       [ 0.0984521 , -0.47740538],\n",
       "       [-1.12976218, -1.74185471]])"
      ]
     },
     "execution_count": 32,
     "metadata": {},
     "output_type": "execute_result"
    }
   ],
   "source": [
    "x_train"
   ]
  },
  {
   "cell_type": "code",
   "execution_count": 35,
   "id": "77593f35",
   "metadata": {},
   "outputs": [],
   "source": [
    "# Scaling the values for x_test\n",
    "\n",
    "x_test = scaler.transform(x_test)"
   ]
  },
  {
   "cell_type": "code",
   "execution_count": 36,
   "id": "1dc7eae6",
   "metadata": {},
   "outputs": [
    {
     "data": {
      "text/plain": [
       "array([[-6.34991198, -4.25846889],\n",
       "       [-5.4724391 , -4.32168065],\n",
       "       [-4.35565544, -4.31164704],\n",
       "       [-6.11060119, -4.25144537],\n",
       "       [-4.59496622, -4.25244873],\n",
       "       [-5.87129041, -4.32067729],\n",
       "       [-6.27014172, -4.29358654],\n",
       "       [-6.27014172, -4.27251595],\n",
       "       [-3.79726361, -4.34877141],\n",
       "       [-4.67473648, -4.28957309]])"
      ]
     },
     "execution_count": 36,
     "metadata": {},
     "output_type": "execute_result"
    }
   ],
   "source": [
    "x_test"
   ]
  },
  {
   "cell_type": "markdown",
   "id": "520ffc52",
   "metadata": {},
   "source": [
    "# # Implementing the model"
   ]
  },
  {
   "cell_type": "code",
   "execution_count": 37,
   "id": "5f4dfff0",
   "metadata": {},
   "outputs": [],
   "source": [
    "from sklearn.linear_model import LogisticRegression"
   ]
  },
  {
   "cell_type": "code",
   "execution_count": 38,
   "id": "fa150c9c",
   "metadata": {},
   "outputs": [],
   "source": [
    "# Storing the Logistic Regression in clf variable (classification)\n",
    "\n",
    "clf = LogisticRegression()"
   ]
  },
  {
   "cell_type": "code",
   "execution_count": 39,
   "id": "a2d66335",
   "metadata": {},
   "outputs": [
    {
     "data": {
      "text/plain": [
       "LogisticRegression()"
      ]
     },
     "execution_count": 39,
     "metadata": {},
     "output_type": "execute_result"
    }
   ],
   "source": [
    "# Fitting the x_train and y_train to the Logistic Regression model\n",
    "\n",
    "clf.fit(x_train,y_train)"
   ]
  },
  {
   "cell_type": "markdown",
   "id": "dab511fb",
   "metadata": {},
   "source": [
    "# Model Evaluation\n",
    "\n",
    "This is to find accuracy based on test data"
   ]
  },
  {
   "cell_type": "code",
   "execution_count": 45,
   "id": "44c37728",
   "metadata": {},
   "outputs": [],
   "source": [
    "y_pred=clf.predict(x_test)"
   ]
  },
  {
   "cell_type": "code",
   "execution_count": 46,
   "id": "b52043d6",
   "metadata": {},
   "outputs": [
    {
     "data": {
      "text/plain": [
       "array([0, 0, 0, 0, 0, 0, 0, 0, 0, 0])"
      ]
     },
     "execution_count": 46,
     "metadata": {},
     "output_type": "execute_result"
    }
   ],
   "source": [
    "y_pred"
   ]
  },
  {
   "cell_type": "code",
   "execution_count": 44,
   "id": "e3196518",
   "metadata": {
    "scrolled": true
   },
   "outputs": [
    {
     "data": {
      "text/plain": [
       "75    0\n",
       "1     0\n",
       "72    1\n",
       "15    0\n",
       "52    1\n",
       "81    0\n",
       "40    0\n",
       "76    0\n",
       "58    1\n",
       "11    1\n",
       "Name: placement, dtype: int64"
      ]
     },
     "execution_count": 44,
     "metadata": {},
     "output_type": "execute_result"
    }
   ],
   "source": [
    "y_test"
   ]
  },
  {
   "cell_type": "code",
   "execution_count": 47,
   "id": "e05973e7",
   "metadata": {},
   "outputs": [],
   "source": [
    "from sklearn.metrics import accuracy_score"
   ]
  },
  {
   "cell_type": "code",
   "execution_count": 48,
   "id": "bfd2d1a0",
   "metadata": {},
   "outputs": [
    {
     "data": {
      "text/plain": [
       "0.6"
      ]
     },
     "execution_count": 48,
     "metadata": {},
     "output_type": "execute_result"
    }
   ],
   "source": [
    "accuracy_score(y_test,y_pred)\n",
    "\n",
    "# This means if i am giving 10 inputs its giving me 6 correct and 4 incorrect"
   ]
  },
  {
   "cell_type": "code",
   "execution_count": 50,
   "id": "05f4824a",
   "metadata": {},
   "outputs": [
    {
     "data": {
      "text/plain": [
       "<AxesSubplot:>"
      ]
     },
     "execution_count": 50,
     "metadata": {},
     "output_type": "execute_result"
    },
    {
     "data": {
      "image/png": "[encoded data removed]",
      "text/plain": [
       "<Figure size 432x288 with 1 Axes>"
      ]
     },
     "metadata": {
      "needs_background": "light"
     },
     "output_type": "display_data"
    }
   ],
   "source": [
    "from mlxtend.plotting import plot_decision_regions\n",
    "\n",
    "plot_decision_regions(x_train,y_train.values,clf=clf,legend=2)\n",
    "\n",
    "# This is my Decision Boundry which is seperating placed students with unplaced "
   ]
  },
  {
   "cell_type": "markdown",
   "id": "4667dad5",
   "metadata": {},
   "source": [
    "# Model Deployment"
   ]
  },
  {
   "cell_type": "code",
   "execution_count": 51,
   "id": "fa0844c2",
   "metadata": {},
   "outputs": [],
   "source": [
    "import pickle"
   ]
  },
  {
   "cell_type": "code",
   "execution_count": 52,
   "id": "91d2c6c1",
   "metadata": {},
   "outputs": [],
   "source": [
    "pickle.dump(clf,open('model.pkl','wb'))"
   ]
  },
  {
   "cell_type": "code",
   "execution_count": null,
   "id": "55a932b6",
   "metadata": {},
   "outputs": [],
   "source": []
  }
 ],
 "metadata": {
  "kernelspec": {
   "display_name": "Python 3 (ipykernel)",
   "language": "python",
   "name": "python3"
  },
  "language_info": {
   "codemirror_mode": {
    "name": "ipython",
    "version": 3
   },
   "file_extension": ".py",
   "mimetype": "text/x-python",
   "name": "python",
   "nbconvert_exporter": "python",
   "pygments_lexer": "ipython3",
   "version": "3.9.7"
  }
 },
 "nbformat": 4,
 "nbformat_minor": 5
}
